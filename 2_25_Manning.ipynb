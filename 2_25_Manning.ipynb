{
  "nbformat": 4,
  "nbformat_minor": 0,
  "metadata": {
    "colab": {
      "name": "2_25_Manning.ipynb",
      "provenance": [],
      "collapsed_sections": []
    },
    "kernelspec": {
      "name": "python3",
      "display_name": "Python 3"
    },
    "accelerator": "GPU"
  },
  "cells": [
    {
      "cell_type": "markdown",
      "metadata": {
        "id": "9DIESaDBwrEI",
        "colab_type": "text"
      },
      "source": [
        "## Loading packages and data"
      ]
    },
    {
      "cell_type": "code",
      "metadata": {
        "id": "sFkvG1efwptn",
        "colab_type": "code",
        "colab": {
          "base_uri": "https://localhost:8080/",
          "height": 69
        },
        "outputId": "a9018bf7-a61c-4f45-e6e6-f8a68f9ac0bb"
      },
      "source": [
        "# Packages\n",
        "import numpy as np\n",
        "import pandas as pd\n",
        "import matplotlib\n",
        "import matplotlib.pyplot as plt\n",
        "import matplotlib.ticker as mtick\n",
        "import scipy.stats as st\n",
        "import seaborn as sns\n",
        "%tensorflow_version 2.x\n",
        "import tensorflow\n",
        "import keras\n",
        "# import rpy\n",
        "import datetime\n",
        "from scipy import stats\n",
        "# import scipy.cluster.hierarchy as hac\n",
        "# from sklearn.model_selection import train_test_split\n",
        "# from sklearn.feature_extraction.text import CountVectorizer\n",
        "# from sklearn.linear_model import LogisticRegression\n",
        "# from sklearn.ensemble import RandomForestRegressor\n",
        "# from sklearn.tree import DecisionTreeRegressor\n",
        "# from sklearn.model_selection import GridSearchCV\n",
        "# from sklearn.feature_extraction.text import TfidfTransformer\n",
        "# from sklearn.preprocessing import StandardScaler\n",
        "# from sklearn.decomposition import PCA\n",
        "# %matplotlib inline\n",
        "from io import StringIO\n",
        "import pandas_profiling\n",
        "from matplotlib import rcParams\n",
        "from datetime import datetime\n",
        "import spacy\n",
        "import nltk\n",
        "from textblob import TextBlob\n",
        "import re\n",
        "nltk.download('wordnet')\n",
        "nltk.download('punkt')\n",
        "from spacy.lang.en.stop_words import STOP_WORDS\n",
        "nlp = spacy.load('en')"
      ],
      "execution_count": 35,
      "outputs": [
        {
          "output_type": "stream",
          "text": [
            "[nltk_data] Downloading package wordnet to /root/nltk_data...\n",
            "[nltk_data]   Package wordnet is already up-to-date!\n"
          ],
          "name": "stdout"
        },
        {
          "output_type": "execute_result",
          "data": {
            "text/plain": [
              "True"
            ]
          },
          "metadata": {
            "tags": []
          },
          "execution_count": 35
        }
      ]
    },
    {
      "cell_type": "code",
      "metadata": {
        "id": "JqLuQxAXw7kZ",
        "colab_type": "code",
        "colab": {}
      },
      "source": [
        "# The charts weren't showing without this in Google Colab\n",
        "from IPython.core.interactiveshell import InteractiveShell\n",
        "InteractiveShell.ast_node_interactivity = \"all\"\n",
        "%matplotlib inline\n",
        "sns.set_context('notebook')\n",
        "%config InlineBackend.figure_format = 'retina'"
      ],
      "execution_count": 0,
      "outputs": []
    },
    {
      "cell_type": "code",
      "metadata": {
        "id": "aO-x8A3Sw_Es",
        "colab_type": "code",
        "colab": {
          "base_uri": "https://localhost:8080/",
          "height": 124
        },
        "outputId": "03440e1a-cfb2-4642-c174-c9bcfc3e9c48"
      },
      "source": [
        "# Load the Drive helper and mount\n",
        "from google.colab import drive\n",
        "drive.mount('/content/drive')"
      ],
      "execution_count": 3,
      "outputs": [
        {
          "output_type": "stream",
          "text": [
            "Go to this URL in a browser: https://accounts.google.com/o/oauth2/auth?client_id=947318989803-6bn6qk8qdgf4n4g3pfee6491hc0brc4i.apps.googleusercontent.com&redirect_uri=urn%3aietf%3awg%3aoauth%3a2.0%3aoob&response_type=code&scope=email%20https%3a%2f%2fwww.googleapis.com%2fauth%2fdocs.test%20https%3a%2f%2fwww.googleapis.com%2fauth%2fdrive%20https%3a%2f%2fwww.googleapis.com%2fauth%2fdrive.photos.readonly%20https%3a%2f%2fwww.googleapis.com%2fauth%2fpeopleapi.readonly\n",
            "\n",
            "Enter your authorization code:\n",
            "··········\n",
            "Mounted at /content/drive\n"
          ],
          "name": "stdout"
        }
      ]
    },
    {
      "cell_type": "code",
      "metadata": {
        "id": "GeXZK9P_xIWq",
        "colab_type": "code",
        "colab": {}
      },
      "source": [
        "df = pd.read_csv(\"/content/drive/My Drive/Books, learning materials/NLP/Manning/stackexchange_812k.csv\", low_memory=False, index_col=False)"
      ],
      "execution_count": 0,
      "outputs": []
    },
    {
      "cell_type": "code",
      "metadata": {
        "id": "qVPoXfs6x3-S",
        "colab_type": "code",
        "colab": {
          "base_uri": "https://localhost:8080/",
          "height": 206
        },
        "outputId": "97579538-bf89-444d-fd36-355994e6c35e"
      },
      "source": [
        "df.head()"
      ],
      "execution_count": 14,
      "outputs": [
        {
          "output_type": "execute_result",
          "data": {
            "text/html": [
              "<div>\n",
              "<style scoped>\n",
              "    .dataframe tbody tr th:only-of-type {\n",
              "        vertical-align: middle;\n",
              "    }\n",
              "\n",
              "    .dataframe tbody tr th {\n",
              "        vertical-align: top;\n",
              "    }\n",
              "\n",
              "    .dataframe thead th {\n",
              "        text-align: right;\n",
              "    }\n",
              "</style>\n",
              "<table border=\"1\" class=\"dataframe\">\n",
              "  <thead>\n",
              "    <tr style=\"text-align: right;\">\n",
              "      <th></th>\n",
              "      <th>post_id</th>\n",
              "      <th>parent_id</th>\n",
              "      <th>comment_id</th>\n",
              "      <th>text</th>\n",
              "      <th>category</th>\n",
              "    </tr>\n",
              "  </thead>\n",
              "  <tbody>\n",
              "    <tr>\n",
              "      <th>0</th>\n",
              "      <td>1</td>\n",
              "      <td>NaN</td>\n",
              "      <td>NaN</td>\n",
              "      <td>Eliciting priors from experts</td>\n",
              "      <td>title</td>\n",
              "    </tr>\n",
              "    <tr>\n",
              "      <th>1</th>\n",
              "      <td>2</td>\n",
              "      <td>NaN</td>\n",
              "      <td>NaN</td>\n",
              "      <td>What is normality?</td>\n",
              "      <td>title</td>\n",
              "    </tr>\n",
              "    <tr>\n",
              "      <th>2</th>\n",
              "      <td>3</td>\n",
              "      <td>NaN</td>\n",
              "      <td>NaN</td>\n",
              "      <td>What are some valuable Statistical Analysis op...</td>\n",
              "      <td>title</td>\n",
              "    </tr>\n",
              "    <tr>\n",
              "      <th>3</th>\n",
              "      <td>4</td>\n",
              "      <td>NaN</td>\n",
              "      <td>NaN</td>\n",
              "      <td>Assessing the significance of differences in d...</td>\n",
              "      <td>title</td>\n",
              "    </tr>\n",
              "    <tr>\n",
              "      <th>4</th>\n",
              "      <td>6</td>\n",
              "      <td>NaN</td>\n",
              "      <td>NaN</td>\n",
              "      <td>The Two Cultures: statistics vs. machine learn...</td>\n",
              "      <td>title</td>\n",
              "    </tr>\n",
              "  </tbody>\n",
              "</table>\n",
              "</div>"
            ],
            "text/plain": [
              "   post_id  ...  category\n",
              "0        1  ...     title\n",
              "1        2  ...     title\n",
              "2        3  ...     title\n",
              "3        4  ...     title\n",
              "4        6  ...     title\n",
              "\n",
              "[5 rows x 5 columns]"
            ]
          },
          "metadata": {
            "tags": []
          },
          "execution_count": 14
        }
      ]
    },
    {
      "cell_type": "code",
      "metadata": {
        "id": "-so0UiOwyPZT",
        "colab_type": "code",
        "colab": {
          "base_uri": "https://localhost:8080/",
          "height": 34
        },
        "outputId": "693333f6-d03b-4830-8884-c980cc7fc3c7"
      },
      "source": [
        "df['parent_id'].isna().sum() # 736597\n",
        "df['post_id'].isna().sum() # 0\n",
        "df['comment_id'].isna().sum() # 259056"
      ],
      "execution_count": 18,
      "outputs": [
        {
          "output_type": "execute_result",
          "data": {
            "text/plain": [
              "259056"
            ]
          },
          "metadata": {
            "tags": []
          },
          "execution_count": 18
        }
      ]
    },
    {
      "cell_type": "code",
      "metadata": {
        "id": "FmspnIT0zZY0",
        "colab_type": "code",
        "colab": {
          "base_uri": "https://localhost:8080/",
          "height": 86
        },
        "outputId": "c78f2c91-c1f6-4698-cc60-0466b9c5cf32"
      },
      "source": [
        "df['category'].value_counts(normalize=True)"
      ],
      "execution_count": 20,
      "outputs": [
        {
          "output_type": "execute_result",
          "data": {
            "text/plain": [
              "comment    0.681017\n",
              "post       0.206006\n",
              "title      0.112977\n",
              "Name: category, dtype: float64"
            ]
          },
          "metadata": {
            "tags": []
          },
          "execution_count": 20
        }
      ]
    },
    {
      "cell_type": "markdown",
      "metadata": {
        "id": "GLzjvzMmzkNQ",
        "colab_type": "text"
      },
      "source": [
        "## Cleaning text"
      ]
    },
    {
      "cell_type": "code",
      "metadata": {
        "id": "Sc0j3g_EzjMg",
        "colab_type": "code",
        "colab": {}
      },
      "source": [
        "stopwords = list(STOP_WORDS)\n",
        "my_punctuation = '!\"$%&\\'()*+,-./:;<=>?[\\\\]^_`{|}~•@'\n",
        "# Lemmatizing\n",
        "w_tokenizer = nltk.tokenize.WhitespaceTokenizer()\n",
        "lemmatizer = nltk.stem.WordNetLemmatizer()\n",
        "\n",
        "def lemmatize_text(t):\n",
        "  t = re.sub('['+my_punctuation + ']+', ' ', str(t)) # remove punctuation\n",
        "  t = re.sub('\\s+', ' ', str(t)) # remove double spaces\n",
        "      \n",
        "  # return [lemmatizer.lemmatize(w) for w in w_tokenizer.tokenize(t)] # it will give a list that isn't supported by CountVectorizer\n",
        "  return ' '.join([lemmatizer.lemmatize(w) for w in w_tokenizer.tokenize(t)]) # need to keep the result as a line, not a list"
      ],
      "execution_count": 0,
      "outputs": []
    },
    {
      "cell_type": "code",
      "metadata": {
        "id": "Ju_aki-T2W7g",
        "colab_type": "code",
        "colab": {}
      },
      "source": [
        "# remove everything between the $ signs with nothing: getting rid of formulas \n",
        "df['no_formulas'] = df['text'].replace('$.*?$','', regex=True)"
      ],
      "execution_count": 0,
      "outputs": []
    },
    {
      "cell_type": "code",
      "metadata": {
        "id": "6KiTx4Ky0IaB",
        "colab_type": "code",
        "colab": {}
      },
      "source": [
        "df['lemmatized'] = df['no_formulas'].apply(lemmatize_text)"
      ],
      "execution_count": 0,
      "outputs": []
    },
    {
      "cell_type": "code",
      "metadata": {
        "id": "S-4wHuKq4sNP",
        "colab_type": "code",
        "colab": {}
      },
      "source": [
        "df['lemmatized'] = df['lemmatized'].str.lower() # all lower"
      ],
      "execution_count": 0,
      "outputs": []
    },
    {
      "cell_type": "code",
      "metadata": {
        "id": "j39yZqXj1Lj_",
        "colab_type": "code",
        "colab": {
          "base_uri": "https://localhost:8080/",
          "height": 206
        },
        "outputId": "9c9e92db-22e7-4edd-8815-f310f930e88f"
      },
      "source": [
        "df.head()"
      ],
      "execution_count": 39,
      "outputs": [
        {
          "output_type": "execute_result",
          "data": {
            "text/html": [
              "<div>\n",
              "<style scoped>\n",
              "    .dataframe tbody tr th:only-of-type {\n",
              "        vertical-align: middle;\n",
              "    }\n",
              "\n",
              "    .dataframe tbody tr th {\n",
              "        vertical-align: top;\n",
              "    }\n",
              "\n",
              "    .dataframe thead th {\n",
              "        text-align: right;\n",
              "    }\n",
              "</style>\n",
              "<table border=\"1\" class=\"dataframe\">\n",
              "  <thead>\n",
              "    <tr style=\"text-align: right;\">\n",
              "      <th></th>\n",
              "      <th>post_id</th>\n",
              "      <th>parent_id</th>\n",
              "      <th>comment_id</th>\n",
              "      <th>text</th>\n",
              "      <th>category</th>\n",
              "      <th>lemmatized</th>\n",
              "      <th>no_formulas</th>\n",
              "    </tr>\n",
              "  </thead>\n",
              "  <tbody>\n",
              "    <tr>\n",
              "      <th>0</th>\n",
              "      <td>1</td>\n",
              "      <td>NaN</td>\n",
              "      <td>NaN</td>\n",
              "      <td>Eliciting priors from experts</td>\n",
              "      <td>title</td>\n",
              "      <td>eliciting prior from expert</td>\n",
              "      <td>Eliciting priors from experts</td>\n",
              "    </tr>\n",
              "    <tr>\n",
              "      <th>1</th>\n",
              "      <td>2</td>\n",
              "      <td>NaN</td>\n",
              "      <td>NaN</td>\n",
              "      <td>What is normality?</td>\n",
              "      <td>title</td>\n",
              "      <td>what is normality</td>\n",
              "      <td>What is normality?</td>\n",
              "    </tr>\n",
              "    <tr>\n",
              "      <th>2</th>\n",
              "      <td>3</td>\n",
              "      <td>NaN</td>\n",
              "      <td>NaN</td>\n",
              "      <td>What are some valuable Statistical Analysis op...</td>\n",
              "      <td>title</td>\n",
              "      <td>what are some valuable statistical analysis op...</td>\n",
              "      <td>What are some valuable Statistical Analysis op...</td>\n",
              "    </tr>\n",
              "    <tr>\n",
              "      <th>3</th>\n",
              "      <td>4</td>\n",
              "      <td>NaN</td>\n",
              "      <td>NaN</td>\n",
              "      <td>Assessing the significance of differences in d...</td>\n",
              "      <td>title</td>\n",
              "      <td>assessing the significance of difference in di...</td>\n",
              "      <td>Assessing the significance of differences in d...</td>\n",
              "    </tr>\n",
              "    <tr>\n",
              "      <th>4</th>\n",
              "      <td>6</td>\n",
              "      <td>NaN</td>\n",
              "      <td>NaN</td>\n",
              "      <td>The Two Cultures: statistics vs. machine learn...</td>\n",
              "      <td>title</td>\n",
              "      <td>the two cultures statistic v machine learning</td>\n",
              "      <td>The Two Cultures: statistics vs. machine learn...</td>\n",
              "    </tr>\n",
              "  </tbody>\n",
              "</table>\n",
              "</div>"
            ],
            "text/plain": [
              "   post_id  ...                                        no_formulas\n",
              "0        1  ...                      Eliciting priors from experts\n",
              "1        2  ...                                 What is normality?\n",
              "2        3  ...  What are some valuable Statistical Analysis op...\n",
              "3        4  ...  Assessing the significance of differences in d...\n",
              "4        6  ...  The Two Cultures: statistics vs. machine learn...\n",
              "\n",
              "[5 rows x 7 columns]"
            ]
          },
          "metadata": {
            "tags": []
          },
          "execution_count": 39
        }
      ]
    },
    {
      "cell_type": "code",
      "metadata": {
        "id": "JHud0Tr54_1v",
        "colab_type": "code",
        "colab": {}
      },
      "source": [
        "# Tokenization\n",
        "def tokenize_text(t):\n",
        "  t_new = []\n",
        "  t = nltk.word_tokenize(t)\n",
        "  for w in t:\n",
        "    t_new.append(w)\n",
        "  return t_new "
      ],
      "execution_count": 0,
      "outputs": []
    },
    {
      "cell_type": "code",
      "metadata": {
        "id": "fMuU17nv6hWs",
        "colab_type": "code",
        "colab": {}
      },
      "source": [
        "df['tokens'] = df['lemmatized'].apply(tokenize_text)"
      ],
      "execution_count": 0,
      "outputs": []
    },
    {
      "cell_type": "code",
      "metadata": {
        "id": "ewkVYh5uEXW7",
        "colab_type": "code",
        "colab": {}
      },
      "source": [
        "df['tokens'] = df['tokens'].apply(lambda tk : ' '.join(tk))"
      ],
      "execution_count": 0,
      "outputs": []
    },
    {
      "cell_type": "code",
      "metadata": {
        "id": "hFSdXLR58pJw",
        "colab_type": "code",
        "colab": {
          "base_uri": "https://localhost:8080/",
          "height": 206
        },
        "outputId": "023c0d7a-7460-428e-83d5-3b9e6fc2cb51"
      },
      "source": [
        "df.head()"
      ],
      "execution_count": 64,
      "outputs": [
        {
          "output_type": "execute_result",
          "data": {
            "text/html": [
              "<div>\n",
              "<style scoped>\n",
              "    .dataframe tbody tr th:only-of-type {\n",
              "        vertical-align: middle;\n",
              "    }\n",
              "\n",
              "    .dataframe tbody tr th {\n",
              "        vertical-align: top;\n",
              "    }\n",
              "\n",
              "    .dataframe thead th {\n",
              "        text-align: right;\n",
              "    }\n",
              "</style>\n",
              "<table border=\"1\" class=\"dataframe\">\n",
              "  <thead>\n",
              "    <tr style=\"text-align: right;\">\n",
              "      <th></th>\n",
              "      <th>post_id</th>\n",
              "      <th>parent_id</th>\n",
              "      <th>comment_id</th>\n",
              "      <th>text</th>\n",
              "      <th>category</th>\n",
              "      <th>lemmatized</th>\n",
              "      <th>tokens</th>\n",
              "    </tr>\n",
              "  </thead>\n",
              "  <tbody>\n",
              "    <tr>\n",
              "      <th>0</th>\n",
              "      <td>1</td>\n",
              "      <td>NaN</td>\n",
              "      <td>NaN</td>\n",
              "      <td>Eliciting priors from experts</td>\n",
              "      <td>title</td>\n",
              "      <td>eliciting prior from expert</td>\n",
              "      <td>eliciting prior from expert</td>\n",
              "    </tr>\n",
              "    <tr>\n",
              "      <th>1</th>\n",
              "      <td>2</td>\n",
              "      <td>NaN</td>\n",
              "      <td>NaN</td>\n",
              "      <td>What is normality?</td>\n",
              "      <td>title</td>\n",
              "      <td>what is normality</td>\n",
              "      <td>what is normality</td>\n",
              "    </tr>\n",
              "    <tr>\n",
              "      <th>2</th>\n",
              "      <td>3</td>\n",
              "      <td>NaN</td>\n",
              "      <td>NaN</td>\n",
              "      <td>What are some valuable Statistical Analysis op...</td>\n",
              "      <td>title</td>\n",
              "      <td>what are some valuable statistical analysis op...</td>\n",
              "      <td>what are some valuable statistical analysis op...</td>\n",
              "    </tr>\n",
              "    <tr>\n",
              "      <th>3</th>\n",
              "      <td>4</td>\n",
              "      <td>NaN</td>\n",
              "      <td>NaN</td>\n",
              "      <td>Assessing the significance of differences in d...</td>\n",
              "      <td>title</td>\n",
              "      <td>assessing the significance of difference in di...</td>\n",
              "      <td>assessing the significance of difference in di...</td>\n",
              "    </tr>\n",
              "    <tr>\n",
              "      <th>4</th>\n",
              "      <td>6</td>\n",
              "      <td>NaN</td>\n",
              "      <td>NaN</td>\n",
              "      <td>The Two Cultures: statistics vs. machine learn...</td>\n",
              "      <td>title</td>\n",
              "      <td>the two cultures statistic v machine learning</td>\n",
              "      <td>the two cultures statistic v machine learning</td>\n",
              "    </tr>\n",
              "  </tbody>\n",
              "</table>\n",
              "</div>"
            ],
            "text/plain": [
              "   post_id  ...                                             tokens\n",
              "0        1  ...                        eliciting prior from expert\n",
              "1        2  ...                                  what is normality\n",
              "2        3  ...  what are some valuable statistical analysis op...\n",
              "3        4  ...  assessing the significance of difference in di...\n",
              "4        6  ...      the two cultures statistic v machine learning\n",
              "\n",
              "[5 rows x 7 columns]"
            ]
          },
          "metadata": {
            "tags": []
          },
          "execution_count": 64
        }
      ]
    },
    {
      "cell_type": "code",
      "metadata": {
        "id": "wPcrex499SR0",
        "colab_type": "code",
        "colab": {}
      },
      "source": [
        "# dropping no_formulas\n",
        "df.drop(labels='no_formulas', axis=1, inplace=True)"
      ],
      "execution_count": 0,
      "outputs": []
    },
    {
      "cell_type": "code",
      "metadata": {
        "id": "1e2Pmbja9dZ5",
        "colab_type": "code",
        "colab": {
          "base_uri": "https://localhost:8080/",
          "height": 206
        },
        "outputId": "30460ceb-228f-41d4-bb15-0678e4449143"
      },
      "source": [
        "df.head()"
      ],
      "execution_count": 47,
      "outputs": [
        {
          "output_type": "execute_result",
          "data": {
            "text/html": [
              "<div>\n",
              "<style scoped>\n",
              "    .dataframe tbody tr th:only-of-type {\n",
              "        vertical-align: middle;\n",
              "    }\n",
              "\n",
              "    .dataframe tbody tr th {\n",
              "        vertical-align: top;\n",
              "    }\n",
              "\n",
              "    .dataframe thead th {\n",
              "        text-align: right;\n",
              "    }\n",
              "</style>\n",
              "<table border=\"1\" class=\"dataframe\">\n",
              "  <thead>\n",
              "    <tr style=\"text-align: right;\">\n",
              "      <th></th>\n",
              "      <th>post_id</th>\n",
              "      <th>parent_id</th>\n",
              "      <th>comment_id</th>\n",
              "      <th>text</th>\n",
              "      <th>category</th>\n",
              "      <th>lemmatized</th>\n",
              "      <th>tokens</th>\n",
              "    </tr>\n",
              "  </thead>\n",
              "  <tbody>\n",
              "    <tr>\n",
              "      <th>0</th>\n",
              "      <td>1</td>\n",
              "      <td>NaN</td>\n",
              "      <td>NaN</td>\n",
              "      <td>Eliciting priors from experts</td>\n",
              "      <td>title</td>\n",
              "      <td>eliciting prior from expert</td>\n",
              "      <td>[eliciting, prior, from, expert]</td>\n",
              "    </tr>\n",
              "    <tr>\n",
              "      <th>1</th>\n",
              "      <td>2</td>\n",
              "      <td>NaN</td>\n",
              "      <td>NaN</td>\n",
              "      <td>What is normality?</td>\n",
              "      <td>title</td>\n",
              "      <td>what is normality</td>\n",
              "      <td>[what, is, normality]</td>\n",
              "    </tr>\n",
              "    <tr>\n",
              "      <th>2</th>\n",
              "      <td>3</td>\n",
              "      <td>NaN</td>\n",
              "      <td>NaN</td>\n",
              "      <td>What are some valuable Statistical Analysis op...</td>\n",
              "      <td>title</td>\n",
              "      <td>what are some valuable statistical analysis op...</td>\n",
              "      <td>[what, are, some, valuable, statistical, analy...</td>\n",
              "    </tr>\n",
              "    <tr>\n",
              "      <th>3</th>\n",
              "      <td>4</td>\n",
              "      <td>NaN</td>\n",
              "      <td>NaN</td>\n",
              "      <td>Assessing the significance of differences in d...</td>\n",
              "      <td>title</td>\n",
              "      <td>assessing the significance of difference in di...</td>\n",
              "      <td>[assessing, the, significance, of, difference,...</td>\n",
              "    </tr>\n",
              "    <tr>\n",
              "      <th>4</th>\n",
              "      <td>6</td>\n",
              "      <td>NaN</td>\n",
              "      <td>NaN</td>\n",
              "      <td>The Two Cultures: statistics vs. machine learn...</td>\n",
              "      <td>title</td>\n",
              "      <td>the two cultures statistic v machine learning</td>\n",
              "      <td>[the, two, cultures, statistic, v, machine, le...</td>\n",
              "    </tr>\n",
              "  </tbody>\n",
              "</table>\n",
              "</div>"
            ],
            "text/plain": [
              "   post_id  ...                                             tokens\n",
              "0        1  ...                   [eliciting, prior, from, expert]\n",
              "1        2  ...                              [what, is, normality]\n",
              "2        3  ...  [what, are, some, valuable, statistical, analy...\n",
              "3        4  ...  [assessing, the, significance, of, difference,...\n",
              "4        6  ...  [the, two, cultures, statistic, v, machine, le...\n",
              "\n",
              "[5 rows x 7 columns]"
            ]
          },
          "metadata": {
            "tags": []
          },
          "execution_count": 47
        }
      ]
    },
    {
      "cell_type": "code",
      "metadata": {
        "id": "J-HCjvNf9fUX",
        "colab_type": "code",
        "colab": {}
      },
      "source": [
        "# Saving as a .csv file \n",
        "from google.colab import files\n",
        "df.to_csv(\"02_25_MK_Manning.csv\", index=False)\n",
        "# files.download(\"02_25_MK_Manning.csv\")"
      ],
      "execution_count": 0,
      "outputs": []
    },
    {
      "cell_type": "code",
      "metadata": {
        "id": "run3ln8yCZFt",
        "colab_type": "code",
        "colab": {}
      },
      "source": [
        "df.to_csv('/content/drive/My Drive/Books, learning materials/NLP/Manning/2_25_mk_manning.csv')"
      ],
      "execution_count": 0,
      "outputs": []
    }
  ]
}